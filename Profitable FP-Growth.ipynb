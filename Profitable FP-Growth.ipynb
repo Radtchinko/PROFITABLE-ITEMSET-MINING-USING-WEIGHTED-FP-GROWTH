{
 "cells": [
  {
   "cell_type": "code",
   "execution_count": 1,
   "metadata": {
    "collapsed": true
   },
   "outputs": [],
   "source": [
    "from collections import defaultdict, namedtuple"
   ]
  },
  {
   "cell_type": "code",
   "execution_count": 2,
   "metadata": {
    "collapsed": true
   },
   "outputs": [],
   "source": [
    "class FP_Node:\n",
    "    def __init__(self, tree, item, count):\n",
    "        self.tree = tree\n",
    "        self.item = item\n",
    "        self.count = count\n",
    "        self._parent = None\n",
    "        self._neighbor = None\n",
    "        self._children = {}\n",
    "\n",
    "    def add(self, child):\n",
    "        if child.item not in self._children:\n",
    "            self._children[child.item] = child\n",
    "            child.parent = self\n",
    "\n",
    "    def search(self, item):\n",
    "        try:\n",
    "            return self._children[item]\n",
    "        except KeyError:\n",
    "            return None\n",
    "\n",
    "    @property\n",
    "    def parent(self):\n",
    "        return self._parent\n",
    "\n",
    "    @parent.setter\n",
    "    def parent(self, item):\n",
    "        self._parent = item\n",
    "\n",
    "    @property\n",
    "    def neighbor(self):\n",
    "        return self._neighbor\n",
    "\n",
    "    @neighbor.setter\n",
    "    def neighbor(self, item):\n",
    "        self._neighbor = item\n",
    "\n",
    "    @property\n",
    "    def root(self):\n",
    "        return self.item is None and self.count is None\n",
    "\n",
    "    @property\n",
    "    def leaf(self):\n",
    "        return len(self._children) == 0\n",
    "\n",
    "    def increase(self, weight):\n",
    "        self.count += weight"
   ]
  },
  {
   "cell_type": "code",
   "execution_count": 3,
   "metadata": {
    "collapsed": true
   },
   "outputs": [],
   "source": [
    "class FP_Tree:\n",
    "    Route = namedtuple('Route', 'head tail')\n",
    "\n",
    "    def __init__(self):\n",
    "        self._root = FP_Node(self, None, None)\n",
    "        self._route = {}\n",
    "\n",
    "    @property\n",
    "    def root(self):\n",
    "        return self._root\n",
    "\n",
    "    def add(self, transaction):\n",
    "        point = self._root\n",
    "        for i, w in transaction:\n",
    "            next_node = point.search(i)\n",
    "            if next_node:\n",
    "                next_node.increase(w)\n",
    "            else:\n",
    "                next_node = FP_Node(self, i, w)\n",
    "                point.add(next_node)\n",
    "                self.update_route(next_node)\n",
    "\n",
    "            point = next_node\n",
    "\n",
    "    def update_route(self, point):\n",
    "        '''\n",
    "        :param point:\n",
    "        :return:\n",
    "        '''\n",
    "        try:\n",
    "            route = self._route[point.item]\n",
    "            route[1].neighbor = point\n",
    "            self._route[point.item] = self.Route(route[0], point)\n",
    "        except KeyError:\n",
    "            self._route[point.item] = self.Route(point, point)\n",
    "\n",
    "    def items(self):\n",
    "        for i in self._route.keys():\n",
    "            yield i, self.nodes(i)\n",
    "\n",
    "    def nodes(self, item):\n",
    "        try:\n",
    "            node = self._route[item][0]\n",
    "        except KeyError:\n",
    "            return\n",
    "        while node:\n",
    "            yield node\n",
    "            node = node.neighbor\n",
    "\n",
    "    def prefix_paths(self, item):\n",
    "        def collect_path(node, path):\n",
    "            while node and not node.root:\n",
    "                path.append(node)\n",
    "                node = node.parent\n",
    "            path.reverse()\n",
    "            return path\n",
    "\n",
    "        return (collect_path(node, []) for node in self.nodes(item))"
   ]
  },
  {
   "cell_type": "code",
   "execution_count": 4,
   "metadata": {
    "collapsed": true
   },
   "outputs": [],
   "source": [
    "def conditional_tree(paths):\n",
    "    tree = FP_Tree()\n",
    "    condition = None\n",
    "    for path in paths:\n",
    "        if condition is None:\n",
    "            condition = path[-1].item\n",
    "        point = tree.root\n",
    "        for node in path:\n",
    "            next_node = point.search(node.item)\n",
    "            if not next_node:\n",
    "                count = node.count if node.item == condition else 0\n",
    "                next_node = FP_Node(tree, node.item, count)\n",
    "                point.add(next_node)\n",
    "                tree.update_route(next_node)\n",
    "            point = next_node\n",
    "\n",
    "    for path in tree.prefix_paths(condition):\n",
    "        count = path[-1].count\n",
    "        for i in reversed(path[:-1]):\n",
    "            i.count += count\n",
    "    return tree"
   ]
  },
  {
   "cell_type": "code",
   "execution_count": 5,
   "metadata": {
    "collapsed": true
   },
   "outputs": [],
   "source": [
    "def construct_master_FP_Tree(transactions, minSupport):\n",
    "    atom_frequence = defaultdict(int)\n",
    "    for transaction in transactions:\n",
    "        for i, w in transaction:\n",
    "            atom_frequence[i] += w\n",
    "    support_items = dict((atom, total_weight) for atom, total_weight in atom_frequence.items() if total_weight >= minSupport)\n",
    "    \n",
    "    def support_filter(transaction):\n",
    "        # descending sort by weight\n",
    "        #transaction = list(filter(lambda v: v in support_items, transaction()))\n",
    "        vtransaction = []\n",
    "        for pairX in transaction:\n",
    "            if pairX[0] in support_items.keys():\n",
    "                vtransaction.append(pairX)\n",
    "                \n",
    "        transaction = vtransaction\n",
    "        transaction.sort(key=lambda kv: support_items[kv[0]], reverse=True)\n",
    "        return transaction\n",
    "\n",
    "    master = FP_Tree()\n",
    "    for i in map(support_filter, transactions):\n",
    "        master.add(i)\n",
    "    return master"
   ]
  },
  {
   "cell_type": "code",
   "execution_count": 6,
   "metadata": {
    "collapsed": true
   },
   "outputs": [],
   "source": [
    "def mining_frequent(transactions, minSupport):\n",
    "    tree = construct_master_FP_Tree(transactions, minSupport)\n",
    "\n",
    "    def find_with_suffix(tree, suffix):\n",
    "        for item, nodes in tree.items():\n",
    "            support = sum(i.count for i in nodes)\n",
    "            if support >= minSupport and item not in suffix:\n",
    "                found = [item] + suffix\n",
    "                yield (found, support)\n",
    "                cond_tree = conditional_tree(tree.prefix_paths(item))\n",
    "                for s in find_with_suffix(cond_tree, found):\n",
    "                    yield s\n",
    "\n",
    "    for i in find_with_suffix(tree, []):\n",
    "        yield i"
   ]
  },
  {
   "cell_type": "code",
   "execution_count": 7,
   "metadata": {
    "collapsed": true
   },
   "outputs": [],
   "source": [
    "def fp_growth(transactions, minSupport):\n",
    "    result = []\n",
    "    for item, support in mining_frequent(transactions, minSupport):\n",
    "        result.append((item, support))\n",
    "    result.sort(key=lambda x: x[1],reverse=True)\n",
    "    return result"
   ]
  },
  {
   "cell_type": "code",
   "execution_count": 8,
   "metadata": {
    "collapsed": true
   },
   "outputs": [],
   "source": [
    "transactions = [[('I1',2), ('I2',2), ('I5',18)],\n",
    "                [('I2',1), ('I4',6)],\n",
    "                [('I2',1), ('I3',8)],\n",
    "                [('I1',2), ('I2',2), ('I4',9)],\n",
    "                [('I1',2), ('I3',8)],\n",
    "                [('I2',1), ('I3',8)],\n",
    "                [('I1',2), ('I3',8)],\n",
    "                [('I1',2), ('I2',2), ('I3',12), ('I5',24)],\n",
    "                [('I1',2), ('I2',2), ('I3',12)]]"
   ]
  },
  {
   "cell_type": "code",
   "execution_count": 9,
   "metadata": {},
   "outputs": [
    {
     "name": "stdout",
     "output_type": "stream",
     "text": [
      "['I3']     56        \n",
      "['I5']     42        \n",
      "['I3', 'I5'] 24        \n",
      "['I4']     15        \n",
      "['I1']     12        \n",
      "['I2']     11        \n",
      "['I3', 'I1'] 8         \n",
      "['I1', 'I2'] 8         \n",
      "['I3', 'I2'] 6         \n",
      "['I5', 'I1'] 4         \n",
      "['I5', 'I2'] 4         \n",
      "['I5', 'I1', 'I2'] 4         \n",
      "['I3', 'I1', 'I2'] 4         \n",
      "['I4', 'I2'] 3         \n",
      "['I3', 'I5', 'I1'] 2         \n",
      "['I4', 'I1'] 2         \n",
      "['I3', 'I5', 'I2'] 2         \n",
      "['I3', 'I5', 'I1', 'I2'] 2         \n",
      "['I4', 'I1', 'I2'] 2         \n"
     ]
    }
   ],
   "source": [
    "WeightedRules = fp_growth(transactions, 2)\n",
    "for item, support in WeightedRules:\n",
    "    print('{:<10}'.format(str(item)),'{:<10}'.format(str(support)))"
   ]
  },
  {
   "cell_type": "code",
   "execution_count": null,
   "metadata": {
    "collapsed": true
   },
   "outputs": [],
   "source": []
  }
 ],
 "metadata": {
  "kernelspec": {
   "display_name": "Python 3",
   "language": "python",
   "name": "python3"
  },
  "language_info": {
   "codemirror_mode": {
    "name": "ipython",
    "version": 3
   },
   "file_extension": ".py",
   "mimetype": "text/x-python",
   "name": "python",
   "nbconvert_exporter": "python",
   "pygments_lexer": "ipython3",
   "version": "3.6.1"
  }
 },
 "nbformat": 4,
 "nbformat_minor": 2
}
